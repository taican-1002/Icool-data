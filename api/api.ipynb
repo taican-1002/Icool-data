{
 "cells": [
  {
   "cell_type": "code",
   "execution_count": 11,
   "metadata": {},
   "outputs": [],
   "source": [
    "import pandas as pd\n",
    "import random"
   ]
  },
  {
   "cell_type": "code",
   "execution_count": 19,
   "metadata": {},
   "outputs": [],
   "source": [
    "date1='2022-04-5'\n",
    "date2='2022-05-27'\n",
    "CH='1'\n",
    "\n",
    "def get_date(date1, date2, CH):\n",
    "    print(f'==> store: {CH}')\n",
    "    dates=[str(x).split()[0] for x in pd.date_range(date1, date2, freq='D')]\n",
    "    output={}\n",
    "    for x in dates:\n",
    "        output[x]=random.randint(20, 200)\n",
    "    return output\n"
   ]
  },
  {
   "cell_type": "code",
   "execution_count": 20,
   "metadata": {},
   "outputs": [
    {
     "name": "stdout",
     "output_type": "stream",
     "text": [
      "==> store: 1\n"
     ]
    },
    {
     "data": {
      "text/plain": [
       "{'2022-04-05': 76,\n",
       " '2022-04-06': 74,\n",
       " '2022-04-07': 125,\n",
       " '2022-04-08': 46,\n",
       " '2022-04-09': 188,\n",
       " '2022-04-10': 98,\n",
       " '2022-04-11': 27,\n",
       " '2022-04-12': 113,\n",
       " '2022-04-13': 134,\n",
       " '2022-04-14': 107,\n",
       " '2022-04-15': 73,\n",
       " '2022-04-16': 108,\n",
       " '2022-04-17': 55,\n",
       " '2022-04-18': 38,\n",
       " '2022-04-19': 102,\n",
       " '2022-04-20': 162,\n",
       " '2022-04-21': 66,\n",
       " '2022-04-22': 102,\n",
       " '2022-04-23': 27,\n",
       " '2022-04-24': 60,\n",
       " '2022-04-25': 56,\n",
       " '2022-04-26': 196,\n",
       " '2022-04-27': 118,\n",
       " '2022-04-28': 62,\n",
       " '2022-04-29': 43,\n",
       " '2022-04-30': 58,\n",
       " '2022-05-01': 85,\n",
       " '2022-05-02': 171,\n",
       " '2022-05-03': 23,\n",
       " '2022-05-04': 49,\n",
       " '2022-05-05': 70,\n",
       " '2022-05-06': 91,\n",
       " '2022-05-07': 86,\n",
       " '2022-05-08': 59,\n",
       " '2022-05-09': 163,\n",
       " '2022-05-10': 134,\n",
       " '2022-05-11': 169,\n",
       " '2022-05-12': 64,\n",
       " '2022-05-13': 82,\n",
       " '2022-05-14': 96,\n",
       " '2022-05-15': 24,\n",
       " '2022-05-16': 93,\n",
       " '2022-05-17': 116,\n",
       " '2022-05-18': 191,\n",
       " '2022-05-19': 178,\n",
       " '2022-05-20': 38,\n",
       " '2022-05-21': 186,\n",
       " '2022-05-22': 185,\n",
       " '2022-05-23': 159,\n",
       " '2022-05-24': 74,\n",
       " '2022-05-25': 130,\n",
       " '2022-05-26': 153,\n",
       " '2022-05-27': 34}"
      ]
     },
     "execution_count": 20,
     "metadata": {},
     "output_type": "execute_result"
    }
   ],
   "source": [
    "get_date(date1, date2, CH)\n"
   ]
  },
  {
   "cell_type": "code",
   "execution_count": null,
   "metadata": {},
   "outputs": [],
   "source": []
  },
  {
   "cell_type": "code",
   "execution_count": null,
   "metadata": {},
   "outputs": [],
   "source": []
  }
 ],
 "metadata": {
  "interpreter": {
   "hash": "aee8b7b246df8f9039afb4144a1f6fd8d2ca17a180786b69acc140d282b71a49"
  },
  "kernelspec": {
   "display_name": "Python 3.9.6 64-bit",
   "language": "python",
   "name": "python3"
  },
  "language_info": {
   "codemirror_mode": {
    "name": "ipython",
    "version": 3
   },
   "file_extension": ".py",
   "mimetype": "text/x-python",
   "name": "python",
   "nbconvert_exporter": "python",
   "pygments_lexer": "ipython3",
   "version": "3.8.2"
  },
  "orig_nbformat": 4
 },
 "nbformat": 4,
 "nbformat_minor": 2
}
